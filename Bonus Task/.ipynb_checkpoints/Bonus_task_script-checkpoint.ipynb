{
 "cells": [
  {
   "cell_type": "markdown",
   "id": "209104a1",
   "metadata": {},
   "source": [
    "### credxcio task naukri.com\n",
    "To automate the amazon captcha page\n",
    "\n",
    "https://pypi.org/project/amazoncaptcha/  amazoncaptcha solver link"
   ]
  },
  {
   "cell_type": "code",
   "execution_count": 3,
   "id": "b388e3d5",
   "metadata": {},
   "outputs": [
    {
     "name": "stderr",
     "output_type": "stream",
     "text": [
      "/tmp/ipykernel_16302/1478711084.py:8: DeprecationWarning: executable_path has been deprecated, please pass in a Service object\n",
      "  driver = webdriver.Chrome(executable_path='/home/jithin/Downloads/driver/chromedriver')\n",
      "/tmp/ipykernel_16302/1478711084.py:11: DeprecationWarning: find_element_by_* commands are deprecated. Please use find_element() instead\n",
      "  input_box = driver.find_element_by_id((\"captchacharacters\"))  # the input box in the captcha page\n",
      "/tmp/ipykernel_16302/1478711084.py:20: DeprecationWarning: find_element_by_* commands are deprecated. Please use find_element() instead\n",
      "  input_box = driver.find_element_by_id((\"captchacharacters\")) # checking whether we are in the captcha page\n"
     ]
    }
   ],
   "source": [
    "from amazoncaptcha import AmazonCaptcha  # library that converts the captcha to text\n",
    "from selenium import webdriver\n",
    "from selenium.webdriver.common.keys import Keys\n",
    "import time\n",
    "\n",
    "driver = webdriver.Chrome(executable_path='/home/jithin/Downloads/driver/chromedriver')\n",
    "driver.get('https://www.amazon.com/errors/validateCaptcha')\n",
    "\n",
    "input_box = driver.find_element_by_id((\"captchacharacters\"))  # the input box in the captcha page\n",
    "\n",
    "while True:  # using while so that if the captcha appears again the code will be repeated\n",
    "    captcha = AmazonCaptcha.fromdriver(driver)  # delivering captcha to amazoncaptcha library\n",
    "    solution = captcha.solve(keep_logs=True)  # getting the solution of the captcha in text format\n",
    "    input_box.send_keys(solution)  # input the solution to the textbox\n",
    "    time.sleep(2)\n",
    "    input_box.send_keys(Keys.ENTER)  # press the submit key\n",
    "    try:\n",
    "        input_box = driver.find_element_by_id((\"captchacharacters\")) # checking whether we are in the captcha page \n",
    "    except:\n",
    "        break   # if we are not in the captcha page then break\n",
    "    \n",
    "time.sleep(5)\n",
    "driver.close()"
   ]
  },
  {
   "cell_type": "code",
   "execution_count": null,
   "id": "09e24250",
   "metadata": {},
   "outputs": [],
   "source": []
  },
  {
   "cell_type": "code",
   "execution_count": null,
   "id": "070f11be",
   "metadata": {},
   "outputs": [],
   "source": []
  },
  {
   "cell_type": "code",
   "execution_count": null,
   "id": "569bae65",
   "metadata": {},
   "outputs": [],
   "source": []
  },
  {
   "cell_type": "code",
   "execution_count": null,
   "id": "f0d161c8",
   "metadata": {},
   "outputs": [],
   "source": []
  },
  {
   "cell_type": "code",
   "execution_count": null,
   "id": "09c28664",
   "metadata": {},
   "outputs": [],
   "source": []
  }
 ],
 "metadata": {
  "kernelspec": {
   "display_name": "Python 3 (ipykernel)",
   "language": "python",
   "name": "python3"
  },
  "language_info": {
   "codemirror_mode": {
    "name": "ipython",
    "version": 3
   },
   "file_extension": ".py",
   "mimetype": "text/x-python",
   "name": "python",
   "nbconvert_exporter": "python",
   "pygments_lexer": "ipython3",
   "version": "3.8.10"
  }
 },
 "nbformat": 4,
 "nbformat_minor": 5
}
